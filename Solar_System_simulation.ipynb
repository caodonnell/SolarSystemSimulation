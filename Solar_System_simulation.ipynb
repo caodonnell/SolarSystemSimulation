{
 "cells": [
  {
   "cell_type": "markdown",
   "metadata": {
    "colab_type": "text",
    "id": "MRSBe-A2CW05"
   },
   "source": [
    "# <font color=blue>Simulating the Solar System</font>\n",
    "\n",
    "<sub>Adapted from an activity originally created by Rachel Smullen and Christine O'Donnell in Spring 2020.</sub>\n",
    "\n",
    "In this activity, we will use Python programming to simulate the orbits of planets in our Solar System. The simulations we're running here use the gravitational interactions between bodies (e.g., between a planet and the Sun, or between two planets) to predict the positions of those bodies in the future."
   ]
  },
  {
   "cell_type": "markdown",
   "metadata": {
    "colab_type": "text",
    "id": "0AVJwZc3CW07"
   },
   "source": [
    "<font color=red>**For the rest of this notebook, your tasks will always be bold and red like this.**</font>\n",
    "\n",
    "___"
   ]
  },
  {
   "cell_type": "markdown",
   "metadata": {
    "colab_type": "text",
    "id": "3x83OEuPCW08"
   },
   "source": [
    "## <font color=blue>How to Use This Notebook</font>\n",
    "\n",
    "The webpage you are in is actually an app - much like the ones on your cellphone. This app consists of cells.\n",
    "\n",
    "An *input* cell looks like a light grey box with an `In [ ]:` on its left. Input cells each contain code - instructions to make the computer do something.\n",
    "\n",
    "To activate or select a cell, click anywhere inside of it. It will be outlined in a green box if it is selected.\n",
    "\n",
    "<font color=red>**Select the cell below and read its contents.**</font>"
   ]
  },
  {
   "cell_type": "code",
   "execution_count": null,
   "metadata": {
    "colab": {},
    "colab_type": "code",
    "id": "pJDpEpM7CW09"
   },
   "outputs": [],
   "source": [
    "# Text that follows a \"#\" is known as a comment.\n",
    "# Comments do not affect your code in any way.\n",
    "# You should always read the comments at the top of each cell you interact with.\n",
    "# Comments will be used to describe what the cell's code is actually doing."
   ]
  },
  {
   "cell_type": "markdown",
   "metadata": {
    "colab_type": "text",
    "id": "ugFzRGxnCW1E"
   },
   "source": [
    "To execute or run a selected cell, hit `[Shift + Enter]` on your keyboard. Alternatively, you can press the <span style='background:#D3D3D3'> &#9656;| Run</span>  button in the menu bar at the top of the page. <br>\n",
    "If you accidentally double click on a text cell and it looks like a code cell, use `[Shift + Enter]` to put it back to normal. \n",
    "\n",
    "<font color=red>**Select the cell below and read its contents. Then, run the cell.**</font>"
   ]
  },
  {
   "cell_type": "code",
   "execution_count": null,
   "metadata": {
    "colab": {},
    "colab_type": "code",
    "id": "yo5jTmbtCW1G"
   },
   "outputs": [],
   "source": [
    "# Text that DOESN'T follow a \"#\" is considered code.\n",
    "# Lines of code are instructions given to your computer.\n",
    "# The line of code below is a \"print\" statement.\n",
    "# A print statement literally prints out the text between its quotes.\n",
    "\n",
    "print(\"Congrats! You have successfully run your first cell!\")"
   ]
  },
  {
   "cell_type": "markdown",
   "metadata": {
    "colab_type": "text",
    "id": "-OF2LKkjCW1J"
   },
   "source": [
    "Running a cell creates an *output* directly below it. An output can be some text, a graph, an interactive slider, or even nothing at all! For that last case, you know you have run a cell when the `In [ ]:` becomes `In [#]:`, where \"#\" is any number.  If the code is still in progress, the input cell will look like `In [*]:`.\n",
    "\n",
    "You can learn more about how Jupyter notebooks work at https://try.jupyter.org/"
   ]
  },
  {
   "cell_type": "markdown",
   "metadata": {
    "colab_type": "text",
    "id": "7CjxhXk5CW1K"
   },
   "source": [
    "___\n",
    "#### <font color=blue>Before we start simulating</font>\n",
    "We need to load the software we'll use in this activity. We're using a really nice simulation package called `Rebound` that does most of the hard work for us.  The first rule of writing new software is that it has to have a good name!\n",
    "<font color=red>**Run the cell below.**</font>"
   ]
  },
  {
   "cell_type": "code",
   "execution_count": null,
   "metadata": {
    "colab": {},
    "colab_type": "code",
    "id": "nMdpxSLICW1L"
   },
   "outputs": [],
   "source": [
    "# Software loading\n",
    "# DO NOT CHANGE ANYTHING IN THIS CELL\n",
    "\n",
    "# Simulation package\n",
    "import rebound\n",
    "\n",
    "# Math packages\n",
    "from numpy import *\n",
    "\n",
    "# Plotting packages and settings\n",
    "import matplotlib.pyplot as plt\n",
    "plt.rcParams['animation.html']='jshtml'\n",
    "plt.rcParams['animation.embed_limit']=1024\n",
    "%matplotlib inline\n",
    "\n",
    "# Behind-the-scenes tools to simplify code\n",
    "%run Files/tools.ipynb "
   ]
  },
  {
   "cell_type": "markdown",
   "metadata": {
    "colab_type": "text",
    "id": "7TdT4CJl6b9U"
   },
   "source": [
    "___\n",
    "## <font color=blue>Simulate a Single Planet</font>"
   ]
  },
  {
   "cell_type": "markdown",
   "metadata": {
    "colab_type": "text",
    "id": "CAbIKUfrCW1P"
   },
   "source": [
    "There are four steps to running a simulation of a planetary system.  This section walks you through each piece of the puzzle.\n",
    "\n",
    "<font color=red><b>Run each of the code cells below when you understand what it does.</b></font>"
   ]
  },
  {
   "cell_type": "markdown",
   "metadata": {
    "colab_type": "text",
    "id": "Keh0ZrydCW1Q"
   },
   "source": [
    "<font color=green>1\\. First, we need to **create a Rebound simulation** </font>\n",
    "\n",
    "We'll add all of our stars and planets to this simulation object."
   ]
  },
  {
   "cell_type": "code",
   "execution_count": null,
   "metadata": {
    "colab": {},
    "colab_type": "code",
    "id": "BAnShQJlCW1R"
   },
   "outputs": [],
   "source": [
    "mysim = initialize_simulation() # This will create a simulation called 'mysim'"
   ]
  },
  {
   "cell_type": "markdown",
   "metadata": {
    "colab_type": "text",
    "id": "hyo7c5jBCW1U"
   },
   "source": [
    "<font color=green>2\\. Next, we need to **add a central star** for our planets to orbit.  We must specify the star's _mass_ and _name_. The star should always be the first object added to the simulation.</font>\n",
    "\n",
    "The star's mass must have units of **solar masses** (i.e., units where the Sun's mass is 1) and can have any name you want (as long as it is surrounded by quotation marks `\"` or `'`)"
   ]
  },
  {
   "cell_type": "code",
   "execution_count": null,
   "metadata": {
    "colab": {},
    "colab_type": "code",
    "id": "rnja5EEmCW1X"
   },
   "outputs": [],
   "source": [
    "add_star(mysim,name='star',mass=1.0) # add a star to mysim, with mass in units of solar masses"
   ]
  },
  {
   "cell_type": "markdown",
   "metadata": {
    "colab_type": "text",
    "id": "5MTOY9GrCW1a"
   },
   "source": [
    "<font color=green>3\\. Then, we need to **add our planet(s)**.  We have to define the characteristics of our planets, including *mass*, *name*, and *semi-major axis*. Each planet requires its own line.</font>"
   ]
  },
  {
   "cell_type": "markdown",
   "metadata": {},
   "source": [
    "First, we have to define the *mass* of the planet in units of **Jupiter masses** (i.e., units where the mass of Jupiter is 1). As an aside: Jupiter's mass is ${\\approx}\\frac{1}{1000}$ times that of the Sun. Earth's mass is ${\\approx}\\frac{1}{300}$ times that of Jupiter, or $\\frac{1}{300{,}000}$ times the mass of the Sun. "
   ]
  },
  {
   "cell_type": "markdown",
   "metadata": {},
   "source": [
    "Second, we will also give each planet a *name* so we can refer to each planet in our simulation. Again, names need to be wrapped in quotation marks."
   ]
  },
  {
   "cell_type": "markdown",
   "metadata": {},
   "source": [
    "Third, we have to define the *semi-major axis* of the planet's orbit (referred to with the variable `a`), which describes the average size of the orbit:\n",
    "<img src=\"./Files/semimajoraxis.png\" width=300  /><br>\n",
    "The code we're using expects us to enter the semi-major axis in **Astronomical Units (AU)**, which is the average distance between the Earth and Sun. Thus, if we were simulating the Earth-Sun system, we would use `a=1` to describe Earth's semi-major axis."
   ]
  },
  {
   "cell_type": "markdown",
   "metadata": {},
   "source": [
    "Fourth, we have to define the *eccentricity* of the planet's orbit (referred to with the variable `e`), which describes the shape of the orbit:\n",
    "<img src=\"./Files/eccentricity.png\" width=400  /><br>\n",
    "An eccentricity `e=0` means that the orbit is a perfect circle, and eccentricity `e=1` means that the orbit is a line. If this value is not entered, it will default to `e=0`."
   ]
  },
  {
   "cell_type": "markdown",
   "metadata": {},
   "source": [
    "Fifth, we can define the *inclination* of the planet's orbit (refered to with the variable `i`), which describes the tilt of a planet's orbit:\n",
    "<img src=\"./Files/inclination.png\" width=300  /><br>\n",
    "Inclincation values will be between 0$^\\circ$ and 90$^\\circ$; if this value is not entered, it will default to 0$^\\circ$."
   ]
  },
  {
   "cell_type": "markdown",
   "metadata": {},
   "source": [
    "Finally, the simulation also needs to know a planet's starting position in the simulation - where along the orbit is it located, and how is the orbit oriented? If the name of the planet matches the name of a planet in our Solar System, the code will automatically determine these variables; otherwise, they are set to random values for the simulation."
   ]
  },
  {
   "cell_type": "code",
   "execution_count": null,
   "metadata": {
    "colab": {},
    "colab_type": "code",
    "id": "VYK_7Ui9CW1b"
   },
   "outputs": [],
   "source": [
    "# add a planet to mysim with mass in Jupiter masses and a in AU\n",
    "# note that eccentricity will be 0 (circular orbit), inclincation will be 0 degrees,\n",
    "# and its starting position will be set to a random position along the orbit\n",
    "add_planet(mysim,name='planet',mass=1,a=1) "
   ]
  },
  {
   "cell_type": "markdown",
   "metadata": {
    "colab_type": "text",
    "id": "visnrcCnCW1e"
   },
   "source": [
    "<font color=green>4\\. Finally, we need to **run our simulation** for an amount of time that we specify with the variable *end\\_time*.  This piece of code returns a movie of the orbits that we can look at by typing the movie's name. It also returns a plot of the semi-major axis, distance from the star, and eccentricity as a function of time</font>\n",
    "\n",
    "Time in the simulation is measured in **years**.  <font color=red>This step can take a while! The code is running if you see `In [*]:`</font>"
   ]
  },
  {
   "cell_type": "code",
   "execution_count": null,
   "metadata": {
    "colab": {},
    "colab_type": "code",
    "id": "uNl8YKwcCW1e"
   },
   "outputs": [],
   "source": [
    "movie = run_simulation(mysim,end_time=10) # run mysim for 10 years\n",
    "movie # show the movie"
   ]
  },
  {
   "cell_type": "markdown",
   "metadata": {
    "colab_type": "text",
    "id": "snTX7Ag8CW1h"
   },
   "source": [
    "<font color=green>There are some things you should notice that may be helpful in the next steps.</font>\n",
    "\n",
    "First, while the simulation was running, you should have seen a progress bar with some numbers off to the side. The progress bar is to help you see the status of your simulation.  For very short simulations, the simulation may run too fast for the progress bar to show up. The meaning of the numbers are shown in the picture below.  In particular, the \"% Done\" and \"Time Remaining\" numbers are quite useful."
   ]
  },
  {
   "cell_type": "markdown",
   "metadata": {
    "colab_type": "text",
    "id": "C7JzScTHCW1j"
   },
   "source": [
    "<img src=\"./Files/progress.jpeg\" style=\"width: 600px;\">"
   ]
  },
  {
   "cell_type": "markdown",
   "metadata": {
    "colab_type": "text",
    "id": "Vaj9403GCW1l"
   },
   "source": [
    "Second, you have a movie to play with that shows a \"top down\" view of our planetary system.  The controls of the movie are shown in the picture below."
   ]
  },
  {
   "cell_type": "markdown",
   "metadata": {
    "colab_type": "text",
    "id": "29j9KoVOCW1m"
   },
   "source": [
    "<img src=\"./Files/movie.jpeg\" style=\"width: 500px;\">"
   ]
  },
  {
   "cell_type": "markdown",
   "metadata": {
    "colab_type": "text",
    "id": "0ll6DtnxCW1o"
   },
   "source": [
    "Sometimes the movies may appear to run backward or stay stationary.  This is called the [\"wagon wheel effect\"](https://en.wikipedia.org/wiki/Wagon-wheel_effect).  If the planet appears to stay still, the frames in the movie are being output once every time the planet goes around the star an integer number of times.  If the planet appears to move backward, the frames are being output when the planet goes around more than once but less than twice (or an integer multiple of that) between frames."
   ]
  },
  {
   "cell_type": "markdown",
   "metadata": {
    "colab_type": "text",
    "id": "-pmB8MobHHPr"
   },
   "source": [
    "<font color=green>**Before we go any further**</font>, know that we can put all of the code into one cell to make things simpler. An example is shown below. <font color=red> You do _not_ need to run this code.</font>"
   ]
  },
  {
   "cell_type": "code",
   "execution_count": null,
   "metadata": {
    "colab": {},
    "colab_type": "code",
    "id": "2DE1_SFW51y6"
   },
   "outputs": [],
   "source": [
    "# Create simulation\n",
    "mysim = initialize_simulation()\n",
    "\n",
    "# Add a star\n",
    "add_star(mysim, name='Sun', mass=1.0)\n",
    "\n",
    "# Add some planets\n",
    "add_planet(mysim, name='big planet', mass=1, a=1) # a Jupiter at 1 AU\n",
    "add_planet(mysim, name='small planet', mass=1/300, a=5, e=0.2, i=10) # an eccentric Earth at 5 AU\n",
    "\n",
    "# Run the simulation and show the movie\n",
    "movie = run_simulation(mysim,end_time=100)\n",
    "movie"
   ]
  },
  {
   "cell_type": "markdown",
   "metadata": {
    "colab_type": "text",
    "id": "XiQdCRSAB8M1"
   },
   "source": [
    "____\n",
    "## <font color=blue>Simulate the Solar System</font>"
   ]
  },
  {
   "cell_type": "markdown",
   "metadata": {
    "colab_type": "text",
    "id": "Baz-MMhpIyjr"
   },
   "source": [
    "Let's now simulate the Solar System in it's current configuration.\n",
    "\n",
    "<font color=red>**First, un-comment all lines in the cell below that are part of the simulation (remove the first '#' sign from all lines), and add the Sun and the giant planets to the simulation below and run it for 100 years.** Use the table below for orbital elements. Neptune's orbit takes 164 years. Does it even make one full orbit around the Sun? How do you expect the orbital elements will change on long timescales, considering that the Solar System has existed for 4.5 billion years?</font>\n",
    "\n",
    "##### <font color=green>Using copy & paste from the code above is totally fine, as long as you check your numbers!</font>\n",
    "\n",
    "|    Planet    |     Mass    |   a   |   e   |   i   |\n",
    "|:------------:|:-----------:|:-----:|:-----:|:-----:|\n",
    "|    Mercury   |   0.00017   | 0.38  | 0.22  |  7.1  |\n",
    "|     Venus    |   0.0026    | 0.74  | 0.02  |  3.4  |\n",
    "|     Earth    |   0.0031    | 1.00  | 0.01  |  0.0  |\n",
    "|     Mars     |   0.00031   | 1.51  | 0.09  |  1.9  |\n",
    "|    Jupiter   |     1.0     |  5.2  | 0.05  |  1.3  |\n",
    "|    Saturn    |    0.30     |  9.5  | 0.05  |  2.5  |\n",
    "|    Uranus    |    0.046    | 19.2  | 0.05  |  0.8  |\n",
    "|    Neptune   |    0.054    | 30.1  | 0.01  |  1.8  |\n",
    "\n",
    "\n",
    "\n"
   ]
  },
  {
   "cell_type": "code",
   "execution_count": null,
   "metadata": {
    "colab": {},
    "colab_type": "code",
    "id": "ZaMX6VC3JHUp"
   },
   "outputs": [],
   "source": [
    "## Initialize the simulation\n",
    "#mysim = initialize_simulation()\n",
    "#\n",
    "## Add the Sun here\n",
    "#add_star(mysim, name='Sun', mass=1.0)\n",
    "#\n",
    "## The inner terrestrial planets \n",
    "#add_planet(mysim, name='Mercury', mass=0.00017, a=0.38, e=0.22, i=7.1)\n",
    "#add_planet(mysim, name='Venus',   mass=0.0026,  a=0.74, e=0.02, i=3.4)\n",
    "#add_planet(mysim, name='Earth',   mass=0.0031,  a=1.00, e=0.01, i=0.0)\n",
    "#add_planet(mysim, name='Mars',    mass=0.00034, a=1.51, e=0.09, i=1.9)\n",
    "#\n",
    "## Add the giant planets here\n",
    "#\n",
    "#\n",
    "#\n",
    "#\n",
    "#\n",
    "## Run the simulation\n",
    "#movie = run_simulation(mysim, end_time=0)\n",
    "#movie"
   ]
  },
  {
   "cell_type": "markdown",
   "metadata": {
    "colab_type": "text",
    "id": "R2eGwZuSKOho"
   },
   "source": [
    "\n",
    "You might have noticed that this simulation took a long time to run compared to the simulations we ran earlier. There are three big things that impact the time you have to twiddle your thumbs when running simulations like these:\n",
    "1. The finishing time of the simulation (obviously).\n",
    "2. The number of bodies in the simulation. At each step, the simulation calculates gravitational interactions between each planet and the Sun as well as between each pair of planets. So, for a two planet system, there are four calculations required (the star on each planet and each planet on each other). For an eight planet system, like the Solar System, there are 256.  Fewer planets means a faster simulation.\n",
    "3. The distance of the closest planet to the star.  Accurately approximating close-in planets requries more calculations than planets that are farther from their stars. For example, including Mercury in our simulation requires more than 40 times more calculations than if Jupiter is the closest planet to the Sun in the simulation. Thus, the simulation with Jupiter as the closest planet will be a faster simulation.\n",
    "\n",
    "If a simulation seems to be stuck and you want to stop it, press the <span style='background:#D3D3D3'> &#9726;</span> (stop) button in the menu bar at the top of the page."
   ]
  },
  {
   "cell_type": "markdown",
   "metadata": {
    "colab_type": "text",
    "id": "8s_sVB_eCW2W"
   },
   "source": [
    "___\n",
    "## <font color=blue>What happens if we change the Solar System?</font>\n",
    "\n",
    "One of the really powerful things we can do with simulations is find out what happens if our Solar System was different. Is the system stable, or do planets collide or even get ejected from the system? This isn't the kind of experiment we can run in \"real life\", but we can do it with programming!"
   ]
  },
  {
   "cell_type": "markdown",
   "metadata": {
    "colab_type": "text",
    "id": "r26omLs2B-77"
   },
   "source": [
    "<font color=red>**Run a few simulations to find out what happens if we change something about our Solar System.**</font> What if there were another giant planet beyond Neptune? What if Jupiter were closer to the Sun? What if the Earth were more massive? What if some planets had more eccentric orbits? <font color=red>Run each simulation to an end time of 10 million years.  This can be written in your code as `end_time=10E6` (capital E is important; in code talk, this translates to $10\\times10^6$).</font>\n",
    "\n",
    "\n",
    "Below are several blank code cells for you to use. Feel free to copy & paste code from your earlier simulation into one of these cells.  At the top of the cell, type a comment to remind yourself what changes you're testing. Remember that comments start with `#`. "
   ]
  },
  {
   "cell_type": "code",
   "execution_count": null,
   "metadata": {
    "colab": {},
    "colab_type": "code",
    "id": "Wpz_p3ImCo1f"
   },
   "outputs": [],
   "source": []
  },
  {
   "cell_type": "code",
   "execution_count": null,
   "metadata": {},
   "outputs": [],
   "source": []
  },
  {
   "cell_type": "code",
   "execution_count": null,
   "metadata": {},
   "outputs": [],
   "source": []
  },
  {
   "cell_type": "code",
   "execution_count": null,
   "metadata": {},
   "outputs": [],
   "source": []
  },
  {
   "cell_type": "code",
   "execution_count": null,
   "metadata": {},
   "outputs": [],
   "source": []
  },
  {
   "cell_type": "markdown",
   "metadata": {},
   "source": [
    "Do you really like a movie you made? Maybe you have something you want to use in your final project? You can save it by putting the following command at the end of the cell that made the movie (note that the cell output will not show the movie it is being saved to a file). You can change `'mymovie'` to any name you like. When you return to the main Binder window with the file list, you can select it to download to your computer (click the box to the left of the filename, and then press `'Download'` in the menu bar)."
   ]
  },
  {
   "cell_type": "code",
   "execution_count": null,
   "metadata": {},
   "outputs": [],
   "source": [
    "movie.save('mymovie.mp4')"
   ]
  }
 ],
 "metadata": {
  "colab": {
   "collapsed_sections": [],
   "name": "astrocafe.ipynb",
   "provenance": []
  },
  "kernelspec": {
   "display_name": "Python 3",
   "language": "python",
   "name": "python3"
  },
  "language_info": {
   "codemirror_mode": {
    "name": "ipython",
    "version": 3
   },
   "file_extension": ".py",
   "mimetype": "text/x-python",
   "name": "python",
   "nbconvert_exporter": "python",
   "pygments_lexer": "ipython3",
   "version": "3.6.5"
  }
 },
 "nbformat": 4,
 "nbformat_minor": 4
}
